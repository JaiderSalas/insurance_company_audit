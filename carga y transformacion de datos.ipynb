{
 "cells": [
  {
   "cell_type": "markdown",
   "metadata": {},
   "source": [
    "## Instalacion de librerias "
   ]
  },
  {
   "cell_type": "code",
   "execution_count": null,
   "metadata": {},
   "outputs": [],
   "source": [
    "%pip install pandas\n",
    "%pip install sodapy\n",
    "import pandas as pd\n",
    "from sodapy import Socrata"
   ]
  },
  {
   "cell_type": "markdown",
   "metadata": {},
   "source": [
    "## carga de datos\n",
    "\n",
    "se cargan los datos desde la api, la cual en nuestra arquitectura de nube vendria a ser nuestro data lake."
   ]
  },
  {
   "cell_type": "code",
   "execution_count": 26,
   "metadata": {},
   "outputs": [],
   "source": [
    "def load_data():\n",
    "    warnings.filterwarnings(\"ignore\")\n",
    "\n",
    "    client = Socrata(\"www.datos.gov.co\", None)\n",
    "\n",
    "    results = client.get(\"vw9t-pugy\", limit=8000)\n",
    "\n",
    "    datos = pd.DataFrame.from_records(results)\n",
    "\n",
    "    return datos"
   ]
  },
  {
   "cell_type": "markdown",
   "metadata": {},
   "source": [
    "## seleccion de columnas\n",
    "\n",
    "**Los datos vienen inicialmente con las siguientes columnas**\n",
    "\n",
    "- **codigo** = codigo identificador\t\n",
    "- **ideps** = identificador unico\n",
    "- **eps**\t= eps a la que esta inscrita la persona\n",
    "- **nomcategorias** = categoria del indicador de calidad\n",
    "- **nomservicio**\t= tipo de servicio\n",
    "- **nomespecifique** = resultado esperado del servicio\n",
    "- **nomindicador** = indicador de calidad\t\n",
    "- **resultado** = tiempo en que se resolvio el servicio\t\n",
    "- **nomunidad** = unidad en que se mide la variable resultado, se mide en dias\n",
    "- **nomfuente** = fuente de los datos\t\n",
    "- **fecha_corte**\t= fecha de estudio\n",
    "\n",
    "se seleccionan las columnas que son importantes para el analisis"
   ]
  },
  {
   "cell_type": "code",
   "execution_count": 27,
   "metadata": {},
   "outputs": [],
   "source": [
    "def select_columns(datos):\n",
    "    droped_cols = [\n",
    "        \"codigo\", # no es util para el analisis\n",
    "        \"ideps\", # no es util para el analisis\n",
    "        \"nomcategorias\", #redundante ya que es el mismo para todos\n",
    "        \"nomunidad\", #redundante ya que es el mismo para todos\n",
    "        \"nomfuente\", # no es util para el analisis\n",
    "        \"linkfuente\", # no es util para el analisis\n",
    "    ]\n",
    "\n",
    "    return datos.drop(columns=droped_cols)"
   ]
  },
  {
   "cell_type": "markdown",
   "metadata": {},
   "source": [
    "## limpieza de los datos\n",
    "\n",
    "se evalua que informacion requiere una limpieza"
   ]
  },
  {
   "cell_type": "code",
   "execution_count": 28,
   "metadata": {},
   "outputs": [
    {
     "name": "stderr",
     "output_type": "stream",
     "text": [
      "WARNING:root:Requests made without an app_token will be subject to strict throttling limits.\n"
     ]
    },
    {
     "name": "stdout",
     "output_type": "stream",
     "text": [
      "<class 'pandas.core.frame.DataFrame'>\n",
      "RangeIndex: 7785 entries, 0 to 7784\n",
      "Data columns (total 6 columns):\n",
      " #   Column          Non-Null Count  Dtype \n",
      "---  ------          --------------  ----- \n",
      " 0   eps             7785 non-null   object\n",
      " 1   nomservicio     7785 non-null   object\n",
      " 2   nomespecifique  7785 non-null   object\n",
      " 3   nomindicador    7785 non-null   object\n",
      " 4   resultado       7785 non-null   object\n",
      " 5   fecha_corte     7785 non-null   object\n",
      "dtypes: object(6)\n",
      "memory usage: 365.1+ KB\n"
     ]
    }
   ],
   "source": [
    "datos = load_data()\n",
    "datos = select_columns(datos)\n",
    "\n",
    "datos.info()"
   ]
  },
  {
   "cell_type": "markdown",
   "metadata": {},
   "source": [
    "#### se hicieron los siguientes hallazgos:\n",
    "\n",
    " - **FECHA**: no tiene el tipo de dato correcto, se convierte a tipo fecha\n",
    " - **resultado**: no tiene el tipo de dato correcto, se convierte a tipo numerico"
   ]
  },
  {
   "cell_type": "code",
   "execution_count": 29,
   "metadata": {},
   "outputs": [],
   "source": [
    "def clean_data(datos):\n",
    "    # eliminar datos duplicados\n",
    "    datos.drop_duplicates(inplace=True)\n",
    "\n",
    "    # convertir fechas a tipo de dato datetime\n",
    "    datos[\"fecha_corte\"] = pd.to_datetime(datos[\"fecha_corte\"], infer_datetime_format=True)\n",
    "    \n",
    "    #convertir el campo resultado a numerico\n",
    "    datos[\"resultado\"] = pd.to_numeric(datos[\"resultado\"], errors=\"coerce\")   \n",
    "    return datos"
   ]
  },
  {
   "cell_type": "markdown",
   "metadata": {},
   "source": [
    "## datos limpios"
   ]
  },
  {
   "cell_type": "code",
   "execution_count": 30,
   "metadata": {},
   "outputs": [],
   "source": [
    "def get_data():\n",
    "    datos = load_data()\n",
    "    datos = select_columns(datos)\n",
    "    datos = clean_data(datos)\n",
    "\n",
    "    return datos"
   ]
  },
  {
   "cell_type": "code",
   "execution_count": null,
   "metadata": {},
   "outputs": [],
   "source": [
    "datos = get_data()\n",
    "datos.info()"
   ]
  }
 ],
 "metadata": {
  "kernelspec": {
   "display_name": "Python 3",
   "language": "python",
   "name": "python3"
  },
  "language_info": {
   "codemirror_mode": {
    "name": "ipython",
    "version": 3
   },
   "file_extension": ".py",
   "mimetype": "text/x-python",
   "name": "python",
   "nbconvert_exporter": "python",
   "pygments_lexer": "ipython3",
   "version": "3.12.5"
  }
 },
 "nbformat": 4,
 "nbformat_minor": 2
}
